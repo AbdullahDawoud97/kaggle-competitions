{
 "cells": [
  {
   "cell_type": "markdown",
   "id": "b1718acf",
   "metadata": {
    "papermill": {
     "duration": 0.033057,
     "end_time": "2021-07-27T16:57:04.331844",
     "exception": false,
     "start_time": "2021-07-27T16:57:04.298787",
     "status": "completed"
    },
    "tags": []
   },
   "source": [
    "## You're here! \n",
    "Welcome to your first competition in the [ITI's AI Pro training program](https://ai.iti.gov.eg/epita/ai-engineer/)! We hope you enjoy and learn as much as we did prepairing this competition.\n",
    "\n",
    "\n",
    "## Introduction\n",
    "\n",
    "In the competition, it's required to predict the `Severity` of a car crash given info about the crash, e.g., location.\n",
    "\n",
    "This is the getting started notebook. Things are kept simple so that it's easier to understand the steps and modify it.\n",
    "\n",
    "Feel free to `Fork` this notebook and share it with your modifications **OR** use it to create your submissions.\n",
    "\n",
    "### Prerequisites\n",
    "You should know how to use python and a little bit of Machine Learning. You can apply the techniques you learned in the training program and submit the new solutions! \n",
    "\n",
    "### Checklist\n",
    "You can participate in this competition the way you perefer. However, I recommend following these steps if this is your first time joining a competition on Kaggle.\n",
    "\n",
    "* Fork this notebook and run the cells in order.\n",
    "* Submit this solution.\n",
    "* Make changes to the data processing step as you see fit.\n",
    "* Submit the new solutions.\n",
    "\n",
    "*You can submit up to 5 submissions per day. You can select only one of the submission you make to be considered in the final ranking.*\n",
    "\n",
    "\n",
    "Don't hesitate to leave a comment or contact me if you have any question!"
   ]
  },
  {
   "cell_type": "markdown",
   "id": "1b738a72",
   "metadata": {
    "papermill": {
     "duration": 0.031659,
     "end_time": "2021-07-27T16:57:04.399454",
     "exception": false,
     "start_time": "2021-07-27T16:57:04.367795",
     "status": "completed"
    },
    "tags": []
   },
   "source": [
    "## Import the libraries\n",
    "\n",
    "We'll use `pandas` to load and manipulate the data. Other libraries will be imported in the relevant sections."
   ]
  },
  {
   "cell_type": "code",
   "execution_count": 1,
   "id": "e9f81626",
   "metadata": {
    "_cell_guid": "b1076dfc-b9ad-4769-8c92-a6c4dae69d19",
    "_uuid": "8f2839f25d086af736a60e9eeb907d3b93b6e0e5",
    "execution": {
     "iopub.execute_input": "2021-07-27T16:57:04.474714Z",
     "iopub.status.busy": "2021-07-27T16:57:04.474072Z",
     "iopub.status.idle": "2021-07-27T16:57:04.477253Z",
     "shell.execute_reply": "2021-07-27T16:57:04.476623Z",
     "shell.execute_reply.started": "2021-07-27T16:55:36.958508Z"
    },
    "papermill": {
     "duration": 0.045754,
     "end_time": "2021-07-27T16:57:04.477424",
     "exception": false,
     "start_time": "2021-07-27T16:57:04.431670",
     "status": "completed"
    },
    "tags": []
   },
   "outputs": [],
   "source": [
    "import pandas as pd\n",
    "import os"
   ]
  },
  {
   "cell_type": "markdown",
   "id": "f984b827",
   "metadata": {
    "papermill": {
     "duration": 0.031605,
     "end_time": "2021-07-27T16:57:04.541160",
     "exception": false,
     "start_time": "2021-07-27T16:57:04.509555",
     "status": "completed"
    },
    "tags": []
   },
   "source": [
    "## Exploratory Data Analysis\n",
    "In this step, one should load the data and analyze it. However, I'll load the data and do minimal analysis. You are encouraged to do thorough analysis!\n",
    "\n",
    "Let's load the data using `pandas` and have a look at the generated `DataFrame`."
   ]
  },
  {
   "cell_type": "code",
   "execution_count": 2,
   "id": "74b40bf2",
   "metadata": {
    "execution": {
     "iopub.execute_input": "2021-07-27T16:57:04.610866Z",
     "iopub.status.busy": "2021-07-27T16:57:04.610214Z",
     "iopub.status.idle": "2021-07-27T16:57:04.762724Z",
     "shell.execute_reply": "2021-07-27T16:57:04.763212Z",
     "shell.execute_reply.started": "2021-07-27T16:55:38.597160Z"
    },
    "papermill": {
     "duration": 0.189677,
     "end_time": "2021-07-27T16:57:04.763388",
     "exception": false,
     "start_time": "2021-07-27T16:57:04.573711",
     "status": "completed"
    },
    "tags": []
   },
   "outputs": [
    {
     "name": "stdout",
     "output_type": "stream",
     "text": [
      "The shape of the dataset is (6407, 16).\n",
      "\n",
      "\n"
     ]
    },
    {
     "data": {
      "text/html": [
       "<div>\n",
       "<style scoped>\n",
       "    .dataframe tbody tr th:only-of-type {\n",
       "        vertical-align: middle;\n",
       "    }\n",
       "\n",
       "    .dataframe tbody tr th {\n",
       "        vertical-align: top;\n",
       "    }\n",
       "\n",
       "    .dataframe thead th {\n",
       "        text-align: right;\n",
       "    }\n",
       "</style>\n",
       "<table border=\"1\" class=\"dataframe\">\n",
       "  <thead>\n",
       "    <tr style=\"text-align: right;\">\n",
       "      <th></th>\n",
       "      <th>ID</th>\n",
       "      <th>Lat</th>\n",
       "      <th>Lng</th>\n",
       "      <th>Bump</th>\n",
       "      <th>Distance(mi)</th>\n",
       "      <th>Crossing</th>\n",
       "      <th>Give_Way</th>\n",
       "      <th>Junction</th>\n",
       "      <th>No_Exit</th>\n",
       "      <th>Railway</th>\n",
       "      <th>Roundabout</th>\n",
       "      <th>Stop</th>\n",
       "      <th>Amenity</th>\n",
       "      <th>Side</th>\n",
       "      <th>Severity</th>\n",
       "      <th>timestamp</th>\n",
       "    </tr>\n",
       "  </thead>\n",
       "  <tbody>\n",
       "    <tr>\n",
       "      <th>0</th>\n",
       "      <td>0</td>\n",
       "      <td>37.762150</td>\n",
       "      <td>-122.405660</td>\n",
       "      <td>False</td>\n",
       "      <td>0.044</td>\n",
       "      <td>False</td>\n",
       "      <td>False</td>\n",
       "      <td>False</td>\n",
       "      <td>False</td>\n",
       "      <td>False</td>\n",
       "      <td>False</td>\n",
       "      <td>False</td>\n",
       "      <td>True</td>\n",
       "      <td>R</td>\n",
       "      <td>2</td>\n",
       "      <td>2016-03-25 15:13:02</td>\n",
       "    </tr>\n",
       "    <tr>\n",
       "      <th>1</th>\n",
       "      <td>1</td>\n",
       "      <td>37.719157</td>\n",
       "      <td>-122.448254</td>\n",
       "      <td>False</td>\n",
       "      <td>0.000</td>\n",
       "      <td>False</td>\n",
       "      <td>False</td>\n",
       "      <td>False</td>\n",
       "      <td>False</td>\n",
       "      <td>False</td>\n",
       "      <td>False</td>\n",
       "      <td>False</td>\n",
       "      <td>False</td>\n",
       "      <td>R</td>\n",
       "      <td>2</td>\n",
       "      <td>2020-05-05 19:23:00</td>\n",
       "    </tr>\n",
       "    <tr>\n",
       "      <th>2</th>\n",
       "      <td>2</td>\n",
       "      <td>37.808498</td>\n",
       "      <td>-122.366852</td>\n",
       "      <td>False</td>\n",
       "      <td>0.000</td>\n",
       "      <td>False</td>\n",
       "      <td>False</td>\n",
       "      <td>False</td>\n",
       "      <td>False</td>\n",
       "      <td>False</td>\n",
       "      <td>False</td>\n",
       "      <td>True</td>\n",
       "      <td>False</td>\n",
       "      <td>R</td>\n",
       "      <td>3</td>\n",
       "      <td>2016-09-16 19:57:16</td>\n",
       "    </tr>\n",
       "    <tr>\n",
       "      <th>3</th>\n",
       "      <td>3</td>\n",
       "      <td>37.785930</td>\n",
       "      <td>-122.391080</td>\n",
       "      <td>False</td>\n",
       "      <td>0.009</td>\n",
       "      <td>False</td>\n",
       "      <td>False</td>\n",
       "      <td>True</td>\n",
       "      <td>False</td>\n",
       "      <td>False</td>\n",
       "      <td>False</td>\n",
       "      <td>False</td>\n",
       "      <td>False</td>\n",
       "      <td>R</td>\n",
       "      <td>1</td>\n",
       "      <td>2020-03-29 19:48:43</td>\n",
       "    </tr>\n",
       "    <tr>\n",
       "      <th>4</th>\n",
       "      <td>4</td>\n",
       "      <td>37.719141</td>\n",
       "      <td>-122.448457</td>\n",
       "      <td>False</td>\n",
       "      <td>0.000</td>\n",
       "      <td>False</td>\n",
       "      <td>False</td>\n",
       "      <td>False</td>\n",
       "      <td>False</td>\n",
       "      <td>False</td>\n",
       "      <td>False</td>\n",
       "      <td>False</td>\n",
       "      <td>False</td>\n",
       "      <td>R</td>\n",
       "      <td>2</td>\n",
       "      <td>2019-10-09 08:47:00</td>\n",
       "    </tr>\n",
       "  </tbody>\n",
       "</table>\n",
       "</div>"
      ],
      "text/plain": [
       "   ID        Lat         Lng   Bump  Distance(mi)  Crossing  Give_Way  \\\n",
       "0   0  37.762150 -122.405660  False         0.044     False     False   \n",
       "1   1  37.719157 -122.448254  False         0.000     False     False   \n",
       "2   2  37.808498 -122.366852  False         0.000     False     False   \n",
       "3   3  37.785930 -122.391080  False         0.009     False     False   \n",
       "4   4  37.719141 -122.448457  False         0.000     False     False   \n",
       "\n",
       "   Junction  No_Exit  Railway  Roundabout   Stop  Amenity Side  Severity  \\\n",
       "0     False    False    False       False  False     True    R         2   \n",
       "1     False    False    False       False  False    False    R         2   \n",
       "2     False    False    False       False   True    False    R         3   \n",
       "3      True    False    False       False  False    False    R         1   \n",
       "4     False    False    False       False  False    False    R         2   \n",
       "\n",
       "             timestamp  \n",
       "0  2016-03-25 15:13:02  \n",
       "1  2020-05-05 19:23:00  \n",
       "2  2016-09-16 19:57:16  \n",
       "3  2020-03-29 19:48:43  \n",
       "4  2019-10-09 08:47:00  "
      ]
     },
     "execution_count": 2,
     "metadata": {},
     "output_type": "execute_result"
    }
   ],
   "source": [
    "dataset_path = '/kaggle/input/car-crashes-severity-prediction/'\n",
    "\n",
    "df = pd.read_csv(os.path.join(dataset_path, 'train.csv'))\n",
    "\n",
    "print(\"The shape of the dataset is {}.\\n\\n\".format(df.shape))\n",
    "\n",
    "df.head()"
   ]
  },
  {
   "cell_type": "markdown",
   "id": "cfb8953a",
   "metadata": {
    "papermill": {
     "duration": 0.032579,
     "end_time": "2021-07-27T16:57:04.829641",
     "exception": false,
     "start_time": "2021-07-27T16:57:04.797062",
     "status": "completed"
    },
    "tags": []
   },
   "source": [
    "We've got 6407 examples in the dataset with 14 featues, 1 ID, and the `Severity` of the crash.\n",
    "\n",
    "By looking at the features and a sample from the data, the features look of numerical and catogerical types. What about some descriptive statistics?"
   ]
  },
  {
   "cell_type": "code",
   "execution_count": 3,
   "id": "8aed1055",
   "metadata": {
    "execution": {
     "iopub.execute_input": "2021-07-27T16:57:04.908802Z",
     "iopub.status.busy": "2021-07-27T16:57:04.908134Z",
     "iopub.status.idle": "2021-07-27T16:57:04.935454Z",
     "shell.execute_reply": "2021-07-27T16:57:04.935893Z",
     "shell.execute_reply.started": "2021-07-27T16:55:42.120995Z"
    },
    "papermill": {
     "duration": 0.06614,
     "end_time": "2021-07-27T16:57:04.936059",
     "exception": false,
     "start_time": "2021-07-27T16:57:04.869919",
     "status": "completed"
    },
    "tags": []
   },
   "outputs": [
    {
     "data": {
      "text/html": [
       "<div>\n",
       "<style scoped>\n",
       "    .dataframe tbody tr th:only-of-type {\n",
       "        vertical-align: middle;\n",
       "    }\n",
       "\n",
       "    .dataframe tbody tr th {\n",
       "        vertical-align: top;\n",
       "    }\n",
       "\n",
       "    .dataframe thead th {\n",
       "        text-align: right;\n",
       "    }\n",
       "</style>\n",
       "<table border=\"1\" class=\"dataframe\">\n",
       "  <thead>\n",
       "    <tr style=\"text-align: right;\">\n",
       "      <th></th>\n",
       "      <th>Lat</th>\n",
       "      <th>Lng</th>\n",
       "      <th>Distance(mi)</th>\n",
       "      <th>Severity</th>\n",
       "    </tr>\n",
       "  </thead>\n",
       "  <tbody>\n",
       "    <tr>\n",
       "      <th>count</th>\n",
       "      <td>6407.000000</td>\n",
       "      <td>6407.000000</td>\n",
       "      <td>6407.000000</td>\n",
       "      <td>6407.000000</td>\n",
       "    </tr>\n",
       "    <tr>\n",
       "      <th>mean</th>\n",
       "      <td>37.765653</td>\n",
       "      <td>-122.405990</td>\n",
       "      <td>0.135189</td>\n",
       "      <td>2.293429</td>\n",
       "    </tr>\n",
       "    <tr>\n",
       "      <th>std</th>\n",
       "      <td>0.032555</td>\n",
       "      <td>0.028275</td>\n",
       "      <td>0.396360</td>\n",
       "      <td>0.521225</td>\n",
       "    </tr>\n",
       "    <tr>\n",
       "      <th>min</th>\n",
       "      <td>37.609619</td>\n",
       "      <td>-122.510440</td>\n",
       "      <td>0.000000</td>\n",
       "      <td>1.000000</td>\n",
       "    </tr>\n",
       "    <tr>\n",
       "      <th>25%</th>\n",
       "      <td>37.737096</td>\n",
       "      <td>-122.412210</td>\n",
       "      <td>0.000000</td>\n",
       "      <td>2.000000</td>\n",
       "    </tr>\n",
       "    <tr>\n",
       "      <th>50%</th>\n",
       "      <td>37.768238</td>\n",
       "      <td>-122.404835</td>\n",
       "      <td>0.000000</td>\n",
       "      <td>2.000000</td>\n",
       "    </tr>\n",
       "    <tr>\n",
       "      <th>75%</th>\n",
       "      <td>37.787813</td>\n",
       "      <td>-122.392477</td>\n",
       "      <td>0.041000</td>\n",
       "      <td>3.000000</td>\n",
       "    </tr>\n",
       "    <tr>\n",
       "      <th>max</th>\n",
       "      <td>37.825626</td>\n",
       "      <td>-122.349734</td>\n",
       "      <td>6.820000</td>\n",
       "      <td>4.000000</td>\n",
       "    </tr>\n",
       "  </tbody>\n",
       "</table>\n",
       "</div>"
      ],
      "text/plain": [
       "               Lat          Lng  Distance(mi)     Severity\n",
       "count  6407.000000  6407.000000   6407.000000  6407.000000\n",
       "mean     37.765653  -122.405990      0.135189     2.293429\n",
       "std       0.032555     0.028275      0.396360     0.521225\n",
       "min      37.609619  -122.510440      0.000000     1.000000\n",
       "25%      37.737096  -122.412210      0.000000     2.000000\n",
       "50%      37.768238  -122.404835      0.000000     2.000000\n",
       "75%      37.787813  -122.392477      0.041000     3.000000\n",
       "max      37.825626  -122.349734      6.820000     4.000000"
      ]
     },
     "execution_count": 3,
     "metadata": {},
     "output_type": "execute_result"
    }
   ],
   "source": [
    "df.drop(columns='ID').describe()"
   ]
  },
  {
   "cell_type": "markdown",
   "id": "6559cb56",
   "metadata": {
    "papermill": {
     "duration": 0.032692,
     "end_time": "2021-07-27T16:57:05.001649",
     "exception": false,
     "start_time": "2021-07-27T16:57:04.968957",
     "status": "completed"
    },
    "tags": []
   },
   "source": [
    "The output shows desciptive statistics for the numerical features, `Lat`, `Lng`, `Distance(mi)`, and `Severity`. I'll use the numerical features to demonstrate how to train the model and make submissions. **However you shouldn't use the numerical features only to make the final submission if you want to make it to the top of the leaderboard.**"
   ]
  },
  {
   "cell_type": "markdown",
   "id": "1e95b1df",
   "metadata": {
    "execution": {
     "iopub.execute_input": "2021-07-27T07:45:01.831455Z",
     "iopub.status.busy": "2021-07-27T07:45:01.830902Z",
     "iopub.status.idle": "2021-07-27T07:45:01.834735Z",
     "shell.execute_reply": "2021-07-27T07:45:01.834032Z",
     "shell.execute_reply.started": "2021-07-27T07:45:01.831398Z"
    },
    "papermill": {
     "duration": 0.033216,
     "end_time": "2021-07-27T16:57:05.068619",
     "exception": false,
     "start_time": "2021-07-27T16:57:05.035403",
     "status": "completed"
    },
    "tags": []
   },
   "source": [
    "# preprocessing the training data"
   ]
  },
  {
   "cell_type": "code",
   "execution_count": 4,
   "id": "ff944a2a",
   "metadata": {
    "execution": {
     "iopub.execute_input": "2021-07-27T16:57:05.139003Z",
     "iopub.status.busy": "2021-07-27T16:57:05.138366Z",
     "iopub.status.idle": "2021-07-27T16:57:05.156029Z",
     "shell.execute_reply": "2021-07-27T16:57:05.156529Z",
     "shell.execute_reply.started": "2021-07-27T16:55:45.630445Z"
    },
    "papermill": {
     "duration": 0.053878,
     "end_time": "2021-07-27T16:57:05.156698",
     "exception": false,
     "start_time": "2021-07-27T16:57:05.102820",
     "status": "completed"
    },
    "tags": []
   },
   "outputs": [],
   "source": [
    "df['timestamp'] = pd.to_datetime(df['timestamp'])\n",
    "df['Date'] = df['timestamp'].dt.date\n",
    "df['Hour']=df['timestamp'].dt.hour\n",
    "df=df.drop(columns=['timestamp','ID'])"
   ]
  },
  {
   "cell_type": "code",
   "execution_count": 5,
   "id": "2a1f6e5c",
   "metadata": {
    "execution": {
     "iopub.execute_input": "2021-07-27T16:57:05.226750Z",
     "iopub.status.busy": "2021-07-27T16:57:05.226049Z",
     "iopub.status.idle": "2021-07-27T16:57:05.242580Z",
     "shell.execute_reply": "2021-07-27T16:57:05.242045Z",
     "shell.execute_reply.started": "2021-07-27T16:55:48.061524Z"
    },
    "papermill": {
     "duration": 0.052305,
     "end_time": "2021-07-27T16:57:05.242719",
     "exception": false,
     "start_time": "2021-07-27T16:57:05.190414",
     "status": "completed"
    },
    "tags": []
   },
   "outputs": [],
   "source": [
    "# Mapping Side column to numerical representation\n",
    "df['Side'] = df['Side'].rank(method='dense', ascending=False).astype(float)"
   ]
  },
  {
   "cell_type": "markdown",
   "id": "5546bda0",
   "metadata": {
    "papermill": {
     "duration": 0.034824,
     "end_time": "2021-07-27T16:57:05.313328",
     "exception": false,
     "start_time": "2021-07-27T16:57:05.278504",
     "status": "completed"
    },
    "tags": []
   },
   "source": [
    "# Loading and preprocessing Weather Data"
   ]
  },
  {
   "cell_type": "code",
   "execution_count": 6,
   "id": "677d5ed1",
   "metadata": {
    "execution": {
     "iopub.execute_input": "2021-07-27T16:57:05.383410Z",
     "iopub.status.busy": "2021-07-27T16:57:05.382443Z",
     "iopub.status.idle": "2021-07-27T16:57:05.407718Z",
     "shell.execute_reply": "2021-07-27T16:57:05.408163Z",
     "shell.execute_reply.started": "2021-07-27T16:55:51.445245Z"
    },
    "papermill": {
     "duration": 0.061958,
     "end_time": "2021-07-27T16:57:05.408381",
     "exception": false,
     "start_time": "2021-07-27T16:57:05.346423",
     "status": "completed"
    },
    "tags": []
   },
   "outputs": [
    {
     "name": "stdout",
     "output_type": "stream",
     "text": [
      "The shape of the dataset is (6901, 12).\n",
      "\n",
      "\n"
     ]
    }
   ],
   "source": [
    "df_weather = pd.read_csv(os.path.join(dataset_path, 'weather-sfcsv.csv'))\n",
    "\n",
    "print(\"The shape of the dataset is {}.\\n\\n\".format(df_weather.shape))"
   ]
  },
  {
   "cell_type": "code",
   "execution_count": 7,
   "id": "0b9636e0",
   "metadata": {
    "execution": {
     "iopub.execute_input": "2021-07-27T16:57:05.485221Z",
     "iopub.status.busy": "2021-07-27T16:57:05.484567Z",
     "iopub.status.idle": "2021-07-27T16:57:05.505676Z",
     "shell.execute_reply": "2021-07-27T16:57:05.504690Z",
     "shell.execute_reply.started": "2021-07-27T16:55:52.441065Z"
    },
    "papermill": {
     "duration": 0.063698,
     "end_time": "2021-07-27T16:57:05.505878",
     "exception": false,
     "start_time": "2021-07-27T16:57:05.442180",
     "status": "completed"
    },
    "tags": []
   },
   "outputs": [
    {
     "name": "stdout",
     "output_type": "stream",
     "text": [
      "<class 'pandas.core.frame.DataFrame'>\n",
      "RangeIndex: 6901 entries, 0 to 6900\n",
      "Data columns (total 12 columns):\n",
      " #   Column             Non-Null Count  Dtype  \n",
      "---  ------             --------------  -----  \n",
      " 0   Year               6901 non-null   int64  \n",
      " 1   Day                6901 non-null   int64  \n",
      " 2   Month              6901 non-null   int64  \n",
      " 3   Hour               6901 non-null   int64  \n",
      " 4   Weather_Condition  6900 non-null   object \n",
      " 5   Wind_Chill(F)      3292 non-null   float64\n",
      " 6   Precipitation(in)  3574 non-null   float64\n",
      " 7   Temperature(F)     6899 non-null   float64\n",
      " 8   Humidity(%)        6899 non-null   float64\n",
      " 9   Wind_Speed(mph)    6556 non-null   float64\n",
      " 10  Visibility(mi)     6900 non-null   float64\n",
      " 11  Selected           6901 non-null   object \n",
      "dtypes: float64(6), int64(4), object(2)\n",
      "memory usage: 647.1+ KB\n"
     ]
    }
   ],
   "source": [
    "df_weather.info()"
   ]
  },
  {
   "cell_type": "code",
   "execution_count": 8,
   "id": "e3aee912",
   "metadata": {
    "execution": {
     "iopub.execute_input": "2021-07-27T16:57:05.592992Z",
     "iopub.status.busy": "2021-07-27T16:57:05.592339Z",
     "iopub.status.idle": "2021-07-27T16:57:05.626865Z",
     "shell.execute_reply": "2021-07-27T16:57:05.626319Z",
     "shell.execute_reply.started": "2021-07-27T16:55:54.244726Z"
    },
    "papermill": {
     "duration": 0.080529,
     "end_time": "2021-07-27T16:57:05.627009",
     "exception": false,
     "start_time": "2021-07-27T16:57:05.546480",
     "status": "completed"
    },
    "tags": []
   },
   "outputs": [],
   "source": [
    "df_weather['Date']=pd.to_datetime(df_weather[['Year', 'Month', 'Day']]).dt.date\n",
    "df_weather=df_weather.drop(columns=['Year','Day','Month'])\n",
    "df_weather=df_weather[['Date','Weather_Condition','Visibility(mi)','Temperature(F)', 'Humidity(%)','Wind_Speed(mph)']]#['Wind_Chill(F)', 'Precipitation(in)']\n",
    "#df_weather['Wind_Chill(F)'].fillna(df_weather['Wind_Chill(F)'].mean(), inplace = True)\n",
    "df_weather['Wind_Speed(mph)'].fillna(df_weather['Wind_Speed(mph)'].mean() ,inplace = True)\n",
    "#df_weather['Precipitation(in)'].fillna(df_weather['Precipitation(in)'].mean(), inplace = True)"
   ]
  },
  {
   "cell_type": "code",
   "execution_count": 9,
   "id": "ff3ced40",
   "metadata": {
    "execution": {
     "iopub.execute_input": "2021-07-27T16:57:05.702212Z",
     "iopub.status.busy": "2021-07-27T16:57:05.701554Z",
     "iopub.status.idle": "2021-07-27T16:57:05.704471Z",
     "shell.execute_reply": "2021-07-27T16:57:05.703965Z",
     "shell.execute_reply.started": "2021-07-27T16:55:55.948493Z"
    },
    "papermill": {
     "duration": 0.043214,
     "end_time": "2021-07-27T16:57:05.704601",
     "exception": false,
     "start_time": "2021-07-27T16:57:05.661387",
     "status": "completed"
    },
    "tags": []
   },
   "outputs": [],
   "source": [
    "# Mapping weather condition to numerical representation\n",
    "df_weather.Weather_Condition = pd.factorize(df_weather.Weather_Condition)[0]"
   ]
  },
  {
   "cell_type": "markdown",
   "id": "6dc20ad5",
   "metadata": {
    "papermill": {
     "duration": 0.034266,
     "end_time": "2021-07-27T16:57:05.772992",
     "exception": false,
     "start_time": "2021-07-27T16:57:05.738726",
     "status": "completed"
    },
    "tags": []
   },
   "source": [
    "# Merging training Data and Weather Data "
   ]
  },
  {
   "cell_type": "code",
   "execution_count": 10,
   "id": "69372e6a",
   "metadata": {
    "execution": {
     "iopub.execute_input": "2021-07-27T16:57:05.858229Z",
     "iopub.status.busy": "2021-07-27T16:57:05.857579Z",
     "iopub.status.idle": "2021-07-27T16:57:05.866650Z",
     "shell.execute_reply": "2021-07-27T16:57:05.865998Z",
     "shell.execute_reply.started": "2021-07-27T16:55:58.588534Z"
    },
    "papermill": {
     "duration": 0.059197,
     "end_time": "2021-07-27T16:57:05.866797",
     "exception": false,
     "start_time": "2021-07-27T16:57:05.807600",
     "status": "completed"
    },
    "tags": []
   },
   "outputs": [],
   "source": [
    "#Merge the DataFrames\n",
    "df_merged = pd.merge(df, df_weather, how='inner', left_index=True, right_index=True, suffixes=('', '_drop'))\n",
    "\n",
    "#Drop the duplicate columns\n",
    "df_merged.drop([col for col in df_merged.columns if 'drop' in col], axis=1, inplace=True)\n",
    "df_merged=df_merged.dropna()\n"
   ]
  },
  {
   "cell_type": "code",
   "execution_count": 11,
   "id": "4c0ca2a4",
   "metadata": {
    "execution": {
     "iopub.execute_input": "2021-07-27T16:57:05.947314Z",
     "iopub.status.busy": "2021-07-27T16:57:05.946588Z",
     "iopub.status.idle": "2021-07-27T16:57:05.964009Z",
     "shell.execute_reply": "2021-07-27T16:57:05.963330Z",
     "shell.execute_reply.started": "2021-07-27T16:56:00.500436Z"
    },
    "papermill": {
     "duration": 0.0638,
     "end_time": "2021-07-27T16:57:05.964148",
     "exception": false,
     "start_time": "2021-07-27T16:57:05.900348",
     "status": "completed"
    },
    "tags": []
   },
   "outputs": [
    {
     "name": "stdout",
     "output_type": "stream",
     "text": [
      "<class 'pandas.core.frame.DataFrame'>\n",
      "Int64Index: 6406 entries, 0 to 6406\n",
      "Data columns (total 21 columns):\n",
      " #   Column             Non-Null Count  Dtype  \n",
      "---  ------             --------------  -----  \n",
      " 0   Lat                6406 non-null   float64\n",
      " 1   Lng                6406 non-null   float64\n",
      " 2   Bump               6406 non-null   bool   \n",
      " 3   Distance(mi)       6406 non-null   float64\n",
      " 4   Crossing           6406 non-null   bool   \n",
      " 5   Give_Way           6406 non-null   bool   \n",
      " 6   Junction           6406 non-null   bool   \n",
      " 7   No_Exit            6406 non-null   bool   \n",
      " 8   Railway            6406 non-null   bool   \n",
      " 9   Roundabout         6406 non-null   bool   \n",
      " 10  Stop               6406 non-null   bool   \n",
      " 11  Amenity            6406 non-null   bool   \n",
      " 12  Side               6406 non-null   float64\n",
      " 13  Severity           6406 non-null   int64  \n",
      " 14  Date               6406 non-null   object \n",
      " 15  Hour               6406 non-null   int64  \n",
      " 16  Weather_Condition  6406 non-null   int64  \n",
      " 17  Visibility(mi)     6406 non-null   float64\n",
      " 18  Temperature(F)     6406 non-null   float64\n",
      " 19  Humidity(%)        6406 non-null   float64\n",
      " 20  Wind_Speed(mph)    6406 non-null   float64\n",
      "dtypes: bool(9), float64(8), int64(3), object(1)\n",
      "memory usage: 706.9+ KB\n"
     ]
    }
   ],
   "source": [
    "# Showing information about the new merged data\n",
    "df_merged.info()"
   ]
  },
  {
   "cell_type": "markdown",
   "id": "e61ffed6",
   "metadata": {
    "papermill": {
     "duration": 0.036515,
     "end_time": "2021-07-27T16:57:06.043094",
     "exception": false,
     "start_time": "2021-07-27T16:57:06.006579",
     "status": "completed"
    },
    "tags": []
   },
   "source": [
    "# Loading and preprocessing Holidays Data"
   ]
  },
  {
   "cell_type": "code",
   "execution_count": 12,
   "id": "1730742d",
   "metadata": {
    "execution": {
     "iopub.execute_input": "2021-07-27T16:57:06.118876Z",
     "iopub.status.busy": "2021-07-27T16:57:06.118231Z",
     "iopub.status.idle": "2021-07-27T16:57:06.131520Z",
     "shell.execute_reply": "2021-07-27T16:57:06.130971Z",
     "shell.execute_reply.started": "2021-07-27T16:56:04.597231Z"
    },
    "papermill": {
     "duration": 0.051016,
     "end_time": "2021-07-27T16:57:06.131672",
     "exception": false,
     "start_time": "2021-07-27T16:57:06.080656",
     "status": "completed"
    },
    "tags": []
   },
   "outputs": [],
   "source": [
    "import xml.etree.ElementTree as ET\n",
    "import codecs\n",
    "\n",
    "with codecs.open('/kaggle/input/car-crashes-severity-prediction/holidays.xml', 'r', encoding='utf8') as f:\n",
    "    xml_holidays = f.read()\n",
    "def xmlToDf(xml_data):\n",
    "    root = ET.XML(xml_data)\n",
    "    all_records = []\n",
    "    for i, child in enumerate(root):\n",
    "        record = {}\n",
    "        for sub_child in child:\n",
    "            record[sub_child.tag] = sub_child.text\n",
    "        all_records.append(record)\n",
    "    return pd.DataFrame(all_records)\n",
    "\n",
    "\n",
    "df_holidays = xmlToDf(xml_holidays)\n"
   ]
  },
  {
   "cell_type": "code",
   "execution_count": 13,
   "id": "9f254573",
   "metadata": {
    "execution": {
     "iopub.execute_input": "2021-07-27T16:57:06.207445Z",
     "iopub.status.busy": "2021-07-27T16:57:06.206783Z",
     "iopub.status.idle": "2021-07-27T16:57:06.209317Z",
     "shell.execute_reply": "2021-07-27T16:57:06.209746Z",
     "shell.execute_reply.started": "2021-07-27T16:56:05.643378Z"
    },
    "papermill": {
     "duration": 0.043451,
     "end_time": "2021-07-27T16:57:06.209898",
     "exception": false,
     "start_time": "2021-07-27T16:57:06.166447",
     "status": "completed"
    },
    "tags": []
   },
   "outputs": [],
   "source": [
    "# Extract Year from date\n",
    "df_holidays['Year']=pd.to_datetime(df_holidays['date']).dt.year"
   ]
  },
  {
   "cell_type": "code",
   "execution_count": 14,
   "id": "7dd115a5",
   "metadata": {
    "execution": {
     "iopub.execute_input": "2021-07-27T16:57:06.285724Z",
     "iopub.status.busy": "2021-07-27T16:57:06.285069Z",
     "iopub.status.idle": "2021-07-27T16:57:06.287741Z",
     "shell.execute_reply": "2021-07-27T16:57:06.287211Z",
     "shell.execute_reply.started": "2021-07-27T16:56:06.542269Z"
    },
    "papermill": {
     "duration": 0.043503,
     "end_time": "2021-07-27T16:57:06.287881",
     "exception": false,
     "start_time": "2021-07-27T16:57:06.244378",
     "status": "completed"
    },
    "tags": []
   },
   "outputs": [],
   "source": [
    "# Select Years from 2016 to 2020\n",
    "df_holidays=df_holidays.loc[df_holidays['Year'] >= 2016]"
   ]
  },
  {
   "cell_type": "code",
   "execution_count": 15,
   "id": "a1e19bce",
   "metadata": {
    "execution": {
     "iopub.execute_input": "2021-07-27T16:57:06.372561Z",
     "iopub.status.busy": "2021-07-27T16:57:06.371920Z",
     "iopub.status.idle": "2021-07-27T16:57:06.375129Z",
     "shell.execute_reply": "2021-07-27T16:57:06.375662Z",
     "shell.execute_reply.started": "2021-07-27T16:56:07.743709Z"
    },
    "papermill": {
     "duration": 0.053458,
     "end_time": "2021-07-27T16:57:06.375836",
     "exception": false,
     "start_time": "2021-07-27T16:57:06.322378",
     "status": "completed"
    },
    "tags": []
   },
   "outputs": [
    {
     "data": {
      "text/html": [
       "<div>\n",
       "<style scoped>\n",
       "    .dataframe tbody tr th:only-of-type {\n",
       "        vertical-align: middle;\n",
       "    }\n",
       "\n",
       "    .dataframe tbody tr th {\n",
       "        vertical-align: top;\n",
       "    }\n",
       "\n",
       "    .dataframe thead th {\n",
       "        text-align: right;\n",
       "    }\n",
       "</style>\n",
       "<table border=\"1\" class=\"dataframe\">\n",
       "  <thead>\n",
       "    <tr style=\"text-align: right;\">\n",
       "      <th></th>\n",
       "      <th>date</th>\n",
       "      <th>description</th>\n",
       "      <th>Year</th>\n",
       "    </tr>\n",
       "  </thead>\n",
       "  <tbody>\n",
       "    <tr>\n",
       "      <th>40</th>\n",
       "      <td>2016-01-01</td>\n",
       "      <td>New Year Day</td>\n",
       "      <td>2016</td>\n",
       "    </tr>\n",
       "    <tr>\n",
       "      <th>41</th>\n",
       "      <td>2016-01-18</td>\n",
       "      <td>Martin Luther King Jr. Day</td>\n",
       "      <td>2016</td>\n",
       "    </tr>\n",
       "    <tr>\n",
       "      <th>42</th>\n",
       "      <td>2016-02-15</td>\n",
       "      <td>Presidents Day (Washingtons Birthday)</td>\n",
       "      <td>2016</td>\n",
       "    </tr>\n",
       "    <tr>\n",
       "      <th>43</th>\n",
       "      <td>2016-05-30</td>\n",
       "      <td>Memorial Day</td>\n",
       "      <td>2016</td>\n",
       "    </tr>\n",
       "    <tr>\n",
       "      <th>44</th>\n",
       "      <td>2016-07-04</td>\n",
       "      <td>Independence Day</td>\n",
       "      <td>2016</td>\n",
       "    </tr>\n",
       "    <tr>\n",
       "      <th>45</th>\n",
       "      <td>2016-09-05</td>\n",
       "      <td>Labor Day</td>\n",
       "      <td>2016</td>\n",
       "    </tr>\n",
       "    <tr>\n",
       "      <th>46</th>\n",
       "      <td>2016-10-10</td>\n",
       "      <td>Columbus Day</td>\n",
       "      <td>2016</td>\n",
       "    </tr>\n",
       "    <tr>\n",
       "      <th>47</th>\n",
       "      <td>2016-11-11</td>\n",
       "      <td>Veterans Day</td>\n",
       "      <td>2016</td>\n",
       "    </tr>\n",
       "    <tr>\n",
       "      <th>48</th>\n",
       "      <td>2016-11-24</td>\n",
       "      <td>Thanksgiving Day</td>\n",
       "      <td>2016</td>\n",
       "    </tr>\n",
       "    <tr>\n",
       "      <th>49</th>\n",
       "      <td>2016-12-25</td>\n",
       "      <td>Christmas Day</td>\n",
       "      <td>2016</td>\n",
       "    </tr>\n",
       "    <tr>\n",
       "      <th>50</th>\n",
       "      <td>2017-01-02</td>\n",
       "      <td>New Year Day</td>\n",
       "      <td>2017</td>\n",
       "    </tr>\n",
       "    <tr>\n",
       "      <th>51</th>\n",
       "      <td>2017-01-16</td>\n",
       "      <td>Martin Luther King Jr. Day</td>\n",
       "      <td>2017</td>\n",
       "    </tr>\n",
       "    <tr>\n",
       "      <th>52</th>\n",
       "      <td>2017-02-20</td>\n",
       "      <td>Presidents Day (Washingtons Birthday)</td>\n",
       "      <td>2017</td>\n",
       "    </tr>\n",
       "    <tr>\n",
       "      <th>53</th>\n",
       "      <td>2017-05-29</td>\n",
       "      <td>Memorial Day</td>\n",
       "      <td>2017</td>\n",
       "    </tr>\n",
       "    <tr>\n",
       "      <th>54</th>\n",
       "      <td>2017-07-04</td>\n",
       "      <td>Independence Day</td>\n",
       "      <td>2017</td>\n",
       "    </tr>\n",
       "    <tr>\n",
       "      <th>55</th>\n",
       "      <td>2017-09-04</td>\n",
       "      <td>Labor Day</td>\n",
       "      <td>2017</td>\n",
       "    </tr>\n",
       "    <tr>\n",
       "      <th>56</th>\n",
       "      <td>2017-10-09</td>\n",
       "      <td>Columbus Day</td>\n",
       "      <td>2017</td>\n",
       "    </tr>\n",
       "    <tr>\n",
       "      <th>57</th>\n",
       "      <td>2017-11-10</td>\n",
       "      <td>Veterans Day</td>\n",
       "      <td>2017</td>\n",
       "    </tr>\n",
       "    <tr>\n",
       "      <th>58</th>\n",
       "      <td>2017-11-23</td>\n",
       "      <td>Thanksgiving Day</td>\n",
       "      <td>2017</td>\n",
       "    </tr>\n",
       "    <tr>\n",
       "      <th>59</th>\n",
       "      <td>2017-12-25</td>\n",
       "      <td>Christmas Day</td>\n",
       "      <td>2017</td>\n",
       "    </tr>\n",
       "    <tr>\n",
       "      <th>60</th>\n",
       "      <td>2018-01-01</td>\n",
       "      <td>New Year Day</td>\n",
       "      <td>2018</td>\n",
       "    </tr>\n",
       "    <tr>\n",
       "      <th>61</th>\n",
       "      <td>2018-01-15</td>\n",
       "      <td>Martin Luther King Jr. Day</td>\n",
       "      <td>2018</td>\n",
       "    </tr>\n",
       "    <tr>\n",
       "      <th>62</th>\n",
       "      <td>2018-02-19</td>\n",
       "      <td>Presidents Day (Washingtons Birthday)</td>\n",
       "      <td>2018</td>\n",
       "    </tr>\n",
       "    <tr>\n",
       "      <th>63</th>\n",
       "      <td>2018-05-28</td>\n",
       "      <td>Memorial Day</td>\n",
       "      <td>2018</td>\n",
       "    </tr>\n",
       "    <tr>\n",
       "      <th>64</th>\n",
       "      <td>2018-07-04</td>\n",
       "      <td>Independence Day</td>\n",
       "      <td>2018</td>\n",
       "    </tr>\n",
       "    <tr>\n",
       "      <th>65</th>\n",
       "      <td>2018-09-03</td>\n",
       "      <td>Labor Day</td>\n",
       "      <td>2018</td>\n",
       "    </tr>\n",
       "    <tr>\n",
       "      <th>66</th>\n",
       "      <td>2018-10-08</td>\n",
       "      <td>Columbus Day</td>\n",
       "      <td>2018</td>\n",
       "    </tr>\n",
       "    <tr>\n",
       "      <th>67</th>\n",
       "      <td>2018-11-12</td>\n",
       "      <td>Veterans Day</td>\n",
       "      <td>2018</td>\n",
       "    </tr>\n",
       "    <tr>\n",
       "      <th>68</th>\n",
       "      <td>2018-11-22</td>\n",
       "      <td>Thanksgiving Day</td>\n",
       "      <td>2018</td>\n",
       "    </tr>\n",
       "    <tr>\n",
       "      <th>69</th>\n",
       "      <td>2018-12-25</td>\n",
       "      <td>Christmas Day</td>\n",
       "      <td>2018</td>\n",
       "    </tr>\n",
       "    <tr>\n",
       "      <th>70</th>\n",
       "      <td>2019-01-01</td>\n",
       "      <td>New Year Day</td>\n",
       "      <td>2019</td>\n",
       "    </tr>\n",
       "    <tr>\n",
       "      <th>71</th>\n",
       "      <td>2019-01-21</td>\n",
       "      <td>Martin Luther King Jr. Day</td>\n",
       "      <td>2019</td>\n",
       "    </tr>\n",
       "    <tr>\n",
       "      <th>72</th>\n",
       "      <td>2019-02-18</td>\n",
       "      <td>Presidents Day (Washingtons Birthday)</td>\n",
       "      <td>2019</td>\n",
       "    </tr>\n",
       "    <tr>\n",
       "      <th>73</th>\n",
       "      <td>2019-05-27</td>\n",
       "      <td>Memorial Day</td>\n",
       "      <td>2019</td>\n",
       "    </tr>\n",
       "    <tr>\n",
       "      <th>74</th>\n",
       "      <td>2019-07-04</td>\n",
       "      <td>Independence Day</td>\n",
       "      <td>2019</td>\n",
       "    </tr>\n",
       "    <tr>\n",
       "      <th>75</th>\n",
       "      <td>2019-09-02</td>\n",
       "      <td>Labor Day</td>\n",
       "      <td>2019</td>\n",
       "    </tr>\n",
       "    <tr>\n",
       "      <th>76</th>\n",
       "      <td>2019-10-14</td>\n",
       "      <td>Columbus Day</td>\n",
       "      <td>2019</td>\n",
       "    </tr>\n",
       "    <tr>\n",
       "      <th>77</th>\n",
       "      <td>2019-11-11</td>\n",
       "      <td>Veterans Day</td>\n",
       "      <td>2019</td>\n",
       "    </tr>\n",
       "    <tr>\n",
       "      <th>78</th>\n",
       "      <td>2019-11-28</td>\n",
       "      <td>Thanksgiving Day</td>\n",
       "      <td>2019</td>\n",
       "    </tr>\n",
       "    <tr>\n",
       "      <th>79</th>\n",
       "      <td>2019-12-25</td>\n",
       "      <td>Christmas Day</td>\n",
       "      <td>2019</td>\n",
       "    </tr>\n",
       "    <tr>\n",
       "      <th>80</th>\n",
       "      <td>2020-01-01</td>\n",
       "      <td>New Year Day</td>\n",
       "      <td>2020</td>\n",
       "    </tr>\n",
       "    <tr>\n",
       "      <th>81</th>\n",
       "      <td>2020-01-20</td>\n",
       "      <td>Martin Luther King Jr. Day</td>\n",
       "      <td>2020</td>\n",
       "    </tr>\n",
       "    <tr>\n",
       "      <th>82</th>\n",
       "      <td>2020-02-17</td>\n",
       "      <td>Presidents Day (Washingtons Birthday)</td>\n",
       "      <td>2020</td>\n",
       "    </tr>\n",
       "    <tr>\n",
       "      <th>83</th>\n",
       "      <td>2020-05-25</td>\n",
       "      <td>Memorial Day</td>\n",
       "      <td>2020</td>\n",
       "    </tr>\n",
       "    <tr>\n",
       "      <th>84</th>\n",
       "      <td>2020-07-03</td>\n",
       "      <td>Independence Day</td>\n",
       "      <td>2020</td>\n",
       "    </tr>\n",
       "    <tr>\n",
       "      <th>85</th>\n",
       "      <td>2020-09-07</td>\n",
       "      <td>Labor Day</td>\n",
       "      <td>2020</td>\n",
       "    </tr>\n",
       "    <tr>\n",
       "      <th>86</th>\n",
       "      <td>2020-10-12</td>\n",
       "      <td>Columbus Day</td>\n",
       "      <td>2020</td>\n",
       "    </tr>\n",
       "    <tr>\n",
       "      <th>87</th>\n",
       "      <td>2020-11-11</td>\n",
       "      <td>Veterans Day</td>\n",
       "      <td>2020</td>\n",
       "    </tr>\n",
       "    <tr>\n",
       "      <th>88</th>\n",
       "      <td>2020-11-26</td>\n",
       "      <td>Thanksgiving Day</td>\n",
       "      <td>2020</td>\n",
       "    </tr>\n",
       "    <tr>\n",
       "      <th>89</th>\n",
       "      <td>2020-12-25</td>\n",
       "      <td>Christmas Day</td>\n",
       "      <td>2020</td>\n",
       "    </tr>\n",
       "  </tbody>\n",
       "</table>\n",
       "</div>"
      ],
      "text/plain": [
       "          date                            description  Year\n",
       "40  2016-01-01                           New Year Day  2016\n",
       "41  2016-01-18             Martin Luther King Jr. Day  2016\n",
       "42  2016-02-15  Presidents Day (Washingtons Birthday)  2016\n",
       "43  2016-05-30                           Memorial Day  2016\n",
       "44  2016-07-04                       Independence Day  2016\n",
       "45  2016-09-05                              Labor Day  2016\n",
       "46  2016-10-10                           Columbus Day  2016\n",
       "47  2016-11-11                           Veterans Day  2016\n",
       "48  2016-11-24                       Thanksgiving Day  2016\n",
       "49  2016-12-25                          Christmas Day  2016\n",
       "50  2017-01-02                           New Year Day  2017\n",
       "51  2017-01-16             Martin Luther King Jr. Day  2017\n",
       "52  2017-02-20  Presidents Day (Washingtons Birthday)  2017\n",
       "53  2017-05-29                           Memorial Day  2017\n",
       "54  2017-07-04                       Independence Day  2017\n",
       "55  2017-09-04                              Labor Day  2017\n",
       "56  2017-10-09                           Columbus Day  2017\n",
       "57  2017-11-10                           Veterans Day  2017\n",
       "58  2017-11-23                       Thanksgiving Day  2017\n",
       "59  2017-12-25                          Christmas Day  2017\n",
       "60  2018-01-01                           New Year Day  2018\n",
       "61  2018-01-15             Martin Luther King Jr. Day  2018\n",
       "62  2018-02-19  Presidents Day (Washingtons Birthday)  2018\n",
       "63  2018-05-28                           Memorial Day  2018\n",
       "64  2018-07-04                       Independence Day  2018\n",
       "65  2018-09-03                              Labor Day  2018\n",
       "66  2018-10-08                           Columbus Day  2018\n",
       "67  2018-11-12                           Veterans Day  2018\n",
       "68  2018-11-22                       Thanksgiving Day  2018\n",
       "69  2018-12-25                          Christmas Day  2018\n",
       "70  2019-01-01                           New Year Day  2019\n",
       "71  2019-01-21             Martin Luther King Jr. Day  2019\n",
       "72  2019-02-18  Presidents Day (Washingtons Birthday)  2019\n",
       "73  2019-05-27                           Memorial Day  2019\n",
       "74  2019-07-04                       Independence Day  2019\n",
       "75  2019-09-02                              Labor Day  2019\n",
       "76  2019-10-14                           Columbus Day  2019\n",
       "77  2019-11-11                           Veterans Day  2019\n",
       "78  2019-11-28                       Thanksgiving Day  2019\n",
       "79  2019-12-25                          Christmas Day  2019\n",
       "80  2020-01-01                           New Year Day  2020\n",
       "81  2020-01-20             Martin Luther King Jr. Day  2020\n",
       "82  2020-02-17  Presidents Day (Washingtons Birthday)  2020\n",
       "83  2020-05-25                           Memorial Day  2020\n",
       "84  2020-07-03                       Independence Day  2020\n",
       "85  2020-09-07                              Labor Day  2020\n",
       "86  2020-10-12                           Columbus Day  2020\n",
       "87  2020-11-11                           Veterans Day  2020\n",
       "88  2020-11-26                       Thanksgiving Day  2020\n",
       "89  2020-12-25                          Christmas Day  2020"
      ]
     },
     "execution_count": 15,
     "metadata": {},
     "output_type": "execute_result"
    }
   ],
   "source": [
    "df_holidays"
   ]
  },
  {
   "cell_type": "code",
   "execution_count": 16,
   "id": "641a7595",
   "metadata": {
    "execution": {
     "iopub.execute_input": "2021-07-27T16:57:06.449222Z",
     "iopub.status.busy": "2021-07-27T16:57:06.448583Z",
     "iopub.status.idle": "2021-07-27T16:57:06.459174Z",
     "shell.execute_reply": "2021-07-27T16:57:06.459741Z",
     "shell.execute_reply.started": "2021-07-27T16:56:08.574690Z"
    },
    "papermill": {
     "duration": 0.048939,
     "end_time": "2021-07-27T16:57:06.459923",
     "exception": false,
     "start_time": "2021-07-27T16:57:06.410984",
     "status": "completed"
    },
    "tags": []
   },
   "outputs": [],
   "source": [
    "# Mapping holidays to numerical representation\n",
    "df_holidays.description = pd.factorize(df_holidays.description)[0]\n",
    "# Dropping Year column\n",
    "df_holidays=df_holidays.drop(columns='Year')\n",
    "# Renaming the columns\n",
    "df_holidays.columns=['Date','Holiday']\n",
    "# Casting the Date column to be Date dataframe\n",
    "df_holidays['Date']=pd.to_datetime(df_holidays['Date']).dt.date\n"
   ]
  },
  {
   "cell_type": "code",
   "execution_count": 17,
   "id": "7c007ed4",
   "metadata": {
    "execution": {
     "iopub.execute_input": "2021-07-27T16:57:06.554556Z",
     "iopub.status.busy": "2021-07-27T16:57:06.553537Z",
     "iopub.status.idle": "2021-07-27T16:57:06.557789Z",
     "shell.execute_reply": "2021-07-27T16:57:06.558234Z",
     "shell.execute_reply.started": "2021-07-27T16:56:10.348633Z"
    },
    "papermill": {
     "duration": 0.055949,
     "end_time": "2021-07-27T16:57:06.558428",
     "exception": false,
     "start_time": "2021-07-27T16:57:06.502479",
     "status": "completed"
    },
    "tags": []
   },
   "outputs": [
    {
     "data": {
      "text/html": [
       "<div>\n",
       "<style scoped>\n",
       "    .dataframe tbody tr th:only-of-type {\n",
       "        vertical-align: middle;\n",
       "    }\n",
       "\n",
       "    .dataframe tbody tr th {\n",
       "        vertical-align: top;\n",
       "    }\n",
       "\n",
       "    .dataframe thead th {\n",
       "        text-align: right;\n",
       "    }\n",
       "</style>\n",
       "<table border=\"1\" class=\"dataframe\">\n",
       "  <thead>\n",
       "    <tr style=\"text-align: right;\">\n",
       "      <th></th>\n",
       "      <th>Date</th>\n",
       "      <th>Holiday</th>\n",
       "    </tr>\n",
       "  </thead>\n",
       "  <tbody>\n",
       "    <tr>\n",
       "      <th>40</th>\n",
       "      <td>2016-01-01</td>\n",
       "      <td>0</td>\n",
       "    </tr>\n",
       "    <tr>\n",
       "      <th>41</th>\n",
       "      <td>2016-01-18</td>\n",
       "      <td>1</td>\n",
       "    </tr>\n",
       "    <tr>\n",
       "      <th>42</th>\n",
       "      <td>2016-02-15</td>\n",
       "      <td>2</td>\n",
       "    </tr>\n",
       "    <tr>\n",
       "      <th>43</th>\n",
       "      <td>2016-05-30</td>\n",
       "      <td>3</td>\n",
       "    </tr>\n",
       "    <tr>\n",
       "      <th>44</th>\n",
       "      <td>2016-07-04</td>\n",
       "      <td>4</td>\n",
       "    </tr>\n",
       "    <tr>\n",
       "      <th>45</th>\n",
       "      <td>2016-09-05</td>\n",
       "      <td>5</td>\n",
       "    </tr>\n",
       "    <tr>\n",
       "      <th>46</th>\n",
       "      <td>2016-10-10</td>\n",
       "      <td>6</td>\n",
       "    </tr>\n",
       "    <tr>\n",
       "      <th>47</th>\n",
       "      <td>2016-11-11</td>\n",
       "      <td>7</td>\n",
       "    </tr>\n",
       "    <tr>\n",
       "      <th>48</th>\n",
       "      <td>2016-11-24</td>\n",
       "      <td>8</td>\n",
       "    </tr>\n",
       "    <tr>\n",
       "      <th>49</th>\n",
       "      <td>2016-12-25</td>\n",
       "      <td>9</td>\n",
       "    </tr>\n",
       "    <tr>\n",
       "      <th>50</th>\n",
       "      <td>2017-01-02</td>\n",
       "      <td>0</td>\n",
       "    </tr>\n",
       "    <tr>\n",
       "      <th>51</th>\n",
       "      <td>2017-01-16</td>\n",
       "      <td>1</td>\n",
       "    </tr>\n",
       "    <tr>\n",
       "      <th>52</th>\n",
       "      <td>2017-02-20</td>\n",
       "      <td>2</td>\n",
       "    </tr>\n",
       "    <tr>\n",
       "      <th>53</th>\n",
       "      <td>2017-05-29</td>\n",
       "      <td>3</td>\n",
       "    </tr>\n",
       "    <tr>\n",
       "      <th>54</th>\n",
       "      <td>2017-07-04</td>\n",
       "      <td>4</td>\n",
       "    </tr>\n",
       "    <tr>\n",
       "      <th>55</th>\n",
       "      <td>2017-09-04</td>\n",
       "      <td>5</td>\n",
       "    </tr>\n",
       "    <tr>\n",
       "      <th>56</th>\n",
       "      <td>2017-10-09</td>\n",
       "      <td>6</td>\n",
       "    </tr>\n",
       "    <tr>\n",
       "      <th>57</th>\n",
       "      <td>2017-11-10</td>\n",
       "      <td>7</td>\n",
       "    </tr>\n",
       "    <tr>\n",
       "      <th>58</th>\n",
       "      <td>2017-11-23</td>\n",
       "      <td>8</td>\n",
       "    </tr>\n",
       "    <tr>\n",
       "      <th>59</th>\n",
       "      <td>2017-12-25</td>\n",
       "      <td>9</td>\n",
       "    </tr>\n",
       "    <tr>\n",
       "      <th>60</th>\n",
       "      <td>2018-01-01</td>\n",
       "      <td>0</td>\n",
       "    </tr>\n",
       "    <tr>\n",
       "      <th>61</th>\n",
       "      <td>2018-01-15</td>\n",
       "      <td>1</td>\n",
       "    </tr>\n",
       "    <tr>\n",
       "      <th>62</th>\n",
       "      <td>2018-02-19</td>\n",
       "      <td>2</td>\n",
       "    </tr>\n",
       "    <tr>\n",
       "      <th>63</th>\n",
       "      <td>2018-05-28</td>\n",
       "      <td>3</td>\n",
       "    </tr>\n",
       "    <tr>\n",
       "      <th>64</th>\n",
       "      <td>2018-07-04</td>\n",
       "      <td>4</td>\n",
       "    </tr>\n",
       "    <tr>\n",
       "      <th>65</th>\n",
       "      <td>2018-09-03</td>\n",
       "      <td>5</td>\n",
       "    </tr>\n",
       "    <tr>\n",
       "      <th>66</th>\n",
       "      <td>2018-10-08</td>\n",
       "      <td>6</td>\n",
       "    </tr>\n",
       "    <tr>\n",
       "      <th>67</th>\n",
       "      <td>2018-11-12</td>\n",
       "      <td>7</td>\n",
       "    </tr>\n",
       "    <tr>\n",
       "      <th>68</th>\n",
       "      <td>2018-11-22</td>\n",
       "      <td>8</td>\n",
       "    </tr>\n",
       "    <tr>\n",
       "      <th>69</th>\n",
       "      <td>2018-12-25</td>\n",
       "      <td>9</td>\n",
       "    </tr>\n",
       "    <tr>\n",
       "      <th>70</th>\n",
       "      <td>2019-01-01</td>\n",
       "      <td>0</td>\n",
       "    </tr>\n",
       "    <tr>\n",
       "      <th>71</th>\n",
       "      <td>2019-01-21</td>\n",
       "      <td>1</td>\n",
       "    </tr>\n",
       "    <tr>\n",
       "      <th>72</th>\n",
       "      <td>2019-02-18</td>\n",
       "      <td>2</td>\n",
       "    </tr>\n",
       "    <tr>\n",
       "      <th>73</th>\n",
       "      <td>2019-05-27</td>\n",
       "      <td>3</td>\n",
       "    </tr>\n",
       "    <tr>\n",
       "      <th>74</th>\n",
       "      <td>2019-07-04</td>\n",
       "      <td>4</td>\n",
       "    </tr>\n",
       "    <tr>\n",
       "      <th>75</th>\n",
       "      <td>2019-09-02</td>\n",
       "      <td>5</td>\n",
       "    </tr>\n",
       "    <tr>\n",
       "      <th>76</th>\n",
       "      <td>2019-10-14</td>\n",
       "      <td>6</td>\n",
       "    </tr>\n",
       "    <tr>\n",
       "      <th>77</th>\n",
       "      <td>2019-11-11</td>\n",
       "      <td>7</td>\n",
       "    </tr>\n",
       "    <tr>\n",
       "      <th>78</th>\n",
       "      <td>2019-11-28</td>\n",
       "      <td>8</td>\n",
       "    </tr>\n",
       "    <tr>\n",
       "      <th>79</th>\n",
       "      <td>2019-12-25</td>\n",
       "      <td>9</td>\n",
       "    </tr>\n",
       "    <tr>\n",
       "      <th>80</th>\n",
       "      <td>2020-01-01</td>\n",
       "      <td>0</td>\n",
       "    </tr>\n",
       "    <tr>\n",
       "      <th>81</th>\n",
       "      <td>2020-01-20</td>\n",
       "      <td>1</td>\n",
       "    </tr>\n",
       "    <tr>\n",
       "      <th>82</th>\n",
       "      <td>2020-02-17</td>\n",
       "      <td>2</td>\n",
       "    </tr>\n",
       "    <tr>\n",
       "      <th>83</th>\n",
       "      <td>2020-05-25</td>\n",
       "      <td>3</td>\n",
       "    </tr>\n",
       "    <tr>\n",
       "      <th>84</th>\n",
       "      <td>2020-07-03</td>\n",
       "      <td>4</td>\n",
       "    </tr>\n",
       "    <tr>\n",
       "      <th>85</th>\n",
       "      <td>2020-09-07</td>\n",
       "      <td>5</td>\n",
       "    </tr>\n",
       "    <tr>\n",
       "      <th>86</th>\n",
       "      <td>2020-10-12</td>\n",
       "      <td>6</td>\n",
       "    </tr>\n",
       "    <tr>\n",
       "      <th>87</th>\n",
       "      <td>2020-11-11</td>\n",
       "      <td>7</td>\n",
       "    </tr>\n",
       "    <tr>\n",
       "      <th>88</th>\n",
       "      <td>2020-11-26</td>\n",
       "      <td>8</td>\n",
       "    </tr>\n",
       "    <tr>\n",
       "      <th>89</th>\n",
       "      <td>2020-12-25</td>\n",
       "      <td>9</td>\n",
       "    </tr>\n",
       "  </tbody>\n",
       "</table>\n",
       "</div>"
      ],
      "text/plain": [
       "          Date  Holiday\n",
       "40  2016-01-01        0\n",
       "41  2016-01-18        1\n",
       "42  2016-02-15        2\n",
       "43  2016-05-30        3\n",
       "44  2016-07-04        4\n",
       "45  2016-09-05        5\n",
       "46  2016-10-10        6\n",
       "47  2016-11-11        7\n",
       "48  2016-11-24        8\n",
       "49  2016-12-25        9\n",
       "50  2017-01-02        0\n",
       "51  2017-01-16        1\n",
       "52  2017-02-20        2\n",
       "53  2017-05-29        3\n",
       "54  2017-07-04        4\n",
       "55  2017-09-04        5\n",
       "56  2017-10-09        6\n",
       "57  2017-11-10        7\n",
       "58  2017-11-23        8\n",
       "59  2017-12-25        9\n",
       "60  2018-01-01        0\n",
       "61  2018-01-15        1\n",
       "62  2018-02-19        2\n",
       "63  2018-05-28        3\n",
       "64  2018-07-04        4\n",
       "65  2018-09-03        5\n",
       "66  2018-10-08        6\n",
       "67  2018-11-12        7\n",
       "68  2018-11-22        8\n",
       "69  2018-12-25        9\n",
       "70  2019-01-01        0\n",
       "71  2019-01-21        1\n",
       "72  2019-02-18        2\n",
       "73  2019-05-27        3\n",
       "74  2019-07-04        4\n",
       "75  2019-09-02        5\n",
       "76  2019-10-14        6\n",
       "77  2019-11-11        7\n",
       "78  2019-11-28        8\n",
       "79  2019-12-25        9\n",
       "80  2020-01-01        0\n",
       "81  2020-01-20        1\n",
       "82  2020-02-17        2\n",
       "83  2020-05-25        3\n",
       "84  2020-07-03        4\n",
       "85  2020-09-07        5\n",
       "86  2020-10-12        6\n",
       "87  2020-11-11        7\n",
       "88  2020-11-26        8\n",
       "89  2020-12-25        9"
      ]
     },
     "execution_count": 17,
     "metadata": {},
     "output_type": "execute_result"
    }
   ],
   "source": [
    "# Showing the dataframe\n",
    "df_holidays"
   ]
  },
  {
   "cell_type": "markdown",
   "id": "7713d46c",
   "metadata": {
    "papermill": {
     "duration": 0.035765,
     "end_time": "2021-07-27T16:57:06.632024",
     "exception": false,
     "start_time": "2021-07-27T16:57:06.596259",
     "status": "completed"
    },
    "tags": []
   },
   "source": [
    "# Merging the df_merged with df_holidays"
   ]
  },
  {
   "cell_type": "code",
   "execution_count": 18,
   "id": "1b5b3695",
   "metadata": {
    "execution": {
     "iopub.execute_input": "2021-07-27T16:57:06.715386Z",
     "iopub.status.busy": "2021-07-27T16:57:06.713867Z",
     "iopub.status.idle": "2021-07-27T16:57:06.725701Z",
     "shell.execute_reply": "2021-07-27T16:57:06.725143Z",
     "shell.execute_reply.started": "2021-07-27T16:56:12.579111Z"
    },
    "papermill": {
     "duration": 0.057738,
     "end_time": "2021-07-27T16:57:06.725846",
     "exception": false,
     "start_time": "2021-07-27T16:57:06.668108",
     "status": "completed"
    },
    "tags": []
   },
   "outputs": [],
   "source": [
    "#Merge the DataFrames\n",
    "df_merged = pd.merge(df_merged, df_holidays, how='left', on='Date', suffixes=('', '_drop'))\n",
    "#Drop the duplicate columns\n",
    "df_merged.drop([col for col in df_merged.columns if 'drop' in col], axis=1, inplace=True)"
   ]
  },
  {
   "cell_type": "code",
   "execution_count": 19,
   "id": "4dbaafa1",
   "metadata": {
    "execution": {
     "iopub.execute_input": "2021-07-27T16:57:06.806794Z",
     "iopub.status.busy": "2021-07-27T16:57:06.806096Z",
     "iopub.status.idle": "2021-07-27T16:57:06.820086Z",
     "shell.execute_reply": "2021-07-27T16:57:06.819432Z",
     "shell.execute_reply.started": "2021-07-27T16:56:13.661718Z"
    },
    "papermill": {
     "duration": 0.056906,
     "end_time": "2021-07-27T16:57:06.820221",
     "exception": false,
     "start_time": "2021-07-27T16:57:06.763315",
     "status": "completed"
    },
    "tags": []
   },
   "outputs": [
    {
     "name": "stdout",
     "output_type": "stream",
     "text": [
      "<class 'pandas.core.frame.DataFrame'>\n",
      "Int64Index: 6406 entries, 0 to 6405\n",
      "Data columns (total 22 columns):\n",
      " #   Column             Non-Null Count  Dtype  \n",
      "---  ------             --------------  -----  \n",
      " 0   Lat                6406 non-null   float64\n",
      " 1   Lng                6406 non-null   float64\n",
      " 2   Bump               6406 non-null   bool   \n",
      " 3   Distance(mi)       6406 non-null   float64\n",
      " 4   Crossing           6406 non-null   bool   \n",
      " 5   Give_Way           6406 non-null   bool   \n",
      " 6   Junction           6406 non-null   bool   \n",
      " 7   No_Exit            6406 non-null   bool   \n",
      " 8   Railway            6406 non-null   bool   \n",
      " 9   Roundabout         6406 non-null   bool   \n",
      " 10  Stop               6406 non-null   bool   \n",
      " 11  Amenity            6406 non-null   bool   \n",
      " 12  Side               6406 non-null   float64\n",
      " 13  Severity           6406 non-null   int64  \n",
      " 14  Date               6406 non-null   object \n",
      " 15  Hour               6406 non-null   int64  \n",
      " 16  Weather_Condition  6406 non-null   int64  \n",
      " 17  Visibility(mi)     6406 non-null   float64\n",
      " 18  Temperature(F)     6406 non-null   float64\n",
      " 19  Humidity(%)        6406 non-null   float64\n",
      " 20  Wind_Speed(mph)    6406 non-null   float64\n",
      " 21  Holiday            148 non-null    float64\n",
      "dtypes: bool(9), float64(9), int64(3), object(1)\n",
      "memory usage: 757.0+ KB\n"
     ]
    }
   ],
   "source": [
    "# Showing information about the dataframe\n",
    "df_merged.info()"
   ]
  },
  {
   "cell_type": "code",
   "execution_count": 20,
   "id": "fceecee7",
   "metadata": {
    "execution": {
     "iopub.execute_input": "2021-07-27T16:57:06.899251Z",
     "iopub.status.busy": "2021-07-27T16:57:06.898097Z",
     "iopub.status.idle": "2021-07-27T16:57:06.901399Z",
     "shell.execute_reply": "2021-07-27T16:57:06.900719Z",
     "shell.execute_reply.started": "2021-07-27T16:56:14.300399Z"
    },
    "papermill": {
     "duration": 0.044201,
     "end_time": "2021-07-27T16:57:06.901542",
     "exception": false,
     "start_time": "2021-07-27T16:57:06.857341",
     "status": "completed"
    },
    "tags": []
   },
   "outputs": [],
   "source": [
    "# Replacing the null value which is ordinary day (non-holiday day) to numerical label (10)\n",
    "df_merged['Holiday'].fillna(10, inplace = True)"
   ]
  },
  {
   "cell_type": "markdown",
   "id": "035cb945",
   "metadata": {
    "papermill": {
     "duration": 0.035934,
     "end_time": "2021-07-27T16:57:06.976792",
     "exception": false,
     "start_time": "2021-07-27T16:57:06.940858",
     "status": "completed"
    },
    "tags": []
   },
   "source": [
    "## Data Splitting\n",
    "\n",
    "Now it's time to split the dataset for the training step. Typically the dataset is split into 3 subsets, namely, the training, validation and test sets. In our case, the test set is already predefined. So we'll split the \"training\" set into training and validation sets with 0.8:0.2 ratio. \n",
    "\n",
    "*Note: a good way to generate reproducible results is to set the seed to the algorithms that depends on randomization. This is done with the argument `random_state` in the following command* "
   ]
  },
  {
   "cell_type": "code",
   "execution_count": 21,
   "id": "4359992c",
   "metadata": {
    "execution": {
     "iopub.execute_input": "2021-07-27T16:57:07.058616Z",
     "iopub.status.busy": "2021-07-27T16:57:07.057843Z",
     "iopub.status.idle": "2021-07-27T16:57:07.826932Z",
     "shell.execute_reply": "2021-07-27T16:57:07.825837Z",
     "shell.execute_reply.started": "2021-07-27T16:56:18.126396Z"
    },
    "papermill": {
     "duration": 0.813114,
     "end_time": "2021-07-27T16:57:07.827109",
     "exception": false,
     "start_time": "2021-07-27T16:57:07.013995",
     "status": "completed"
    },
    "tags": []
   },
   "outputs": [],
   "source": [
    "from sklearn.model_selection import train_test_split\n",
    "\n",
    "train_df, val_df = train_test_split(df_merged, test_size=0.2, random_state=42) # Try adding `stratify` here\n",
    "\n",
    "X_train = train_df.drop(columns=['Severity'])\n",
    "y_train = train_df['Severity']\n",
    "\n",
    "X_val = val_df.drop(columns=['Severity'])\n",
    "y_val = val_df['Severity']\n"
   ]
  },
  {
   "cell_type": "code",
   "execution_count": 22,
   "id": "4065c24d",
   "metadata": {
    "execution": {
     "iopub.execute_input": "2021-07-27T16:57:07.907638Z",
     "iopub.status.busy": "2021-07-27T16:57:07.906198Z",
     "iopub.status.idle": "2021-07-27T16:57:07.922675Z",
     "shell.execute_reply": "2021-07-27T16:57:07.921928Z",
     "shell.execute_reply.started": "2021-07-27T16:56:19.539525Z"
    },
    "papermill": {
     "duration": 0.058419,
     "end_time": "2021-07-27T16:57:07.922869",
     "exception": false,
     "start_time": "2021-07-27T16:57:07.864450",
     "status": "completed"
    },
    "tags": []
   },
   "outputs": [
    {
     "name": "stdout",
     "output_type": "stream",
     "text": [
      "<class 'pandas.core.frame.DataFrame'>\n",
      "Int64Index: 5124 entries, 748 to 860\n",
      "Data columns (total 21 columns):\n",
      " #   Column             Non-Null Count  Dtype  \n",
      "---  ------             --------------  -----  \n",
      " 0   Lat                5124 non-null   float64\n",
      " 1   Lng                5124 non-null   float64\n",
      " 2   Bump               5124 non-null   bool   \n",
      " 3   Distance(mi)       5124 non-null   float64\n",
      " 4   Crossing           5124 non-null   bool   \n",
      " 5   Give_Way           5124 non-null   bool   \n",
      " 6   Junction           5124 non-null   bool   \n",
      " 7   No_Exit            5124 non-null   bool   \n",
      " 8   Railway            5124 non-null   bool   \n",
      " 9   Roundabout         5124 non-null   bool   \n",
      " 10  Stop               5124 non-null   bool   \n",
      " 11  Amenity            5124 non-null   bool   \n",
      " 12  Side               5124 non-null   float64\n",
      " 13  Date               5124 non-null   object \n",
      " 14  Hour               5124 non-null   int64  \n",
      " 15  Weather_Condition  5124 non-null   int64  \n",
      " 16  Visibility(mi)     5124 non-null   float64\n",
      " 17  Temperature(F)     5124 non-null   float64\n",
      " 18  Humidity(%)        5124 non-null   float64\n",
      " 19  Wind_Speed(mph)    5124 non-null   float64\n",
      " 20  Holiday            5124 non-null   float64\n",
      "dtypes: bool(9), float64(9), int64(2), object(1)\n",
      "memory usage: 565.4+ KB\n"
     ]
    }
   ],
   "source": [
    "X_train.info()"
   ]
  },
  {
   "cell_type": "markdown",
   "id": "51ab742a",
   "metadata": {
    "papermill": {
     "duration": 0.037592,
     "end_time": "2021-07-27T16:57:07.998441",
     "exception": false,
     "start_time": "2021-07-27T16:57:07.960849",
     "status": "completed"
    },
    "tags": []
   },
   "source": [
    "As pointed out eariler, I'll use the numerical features to train the classifier. **However, you shouldn't use the numerical features only to make the final submission if you want to make it to the top of the leaderboard.** "
   ]
  },
  {
   "cell_type": "code",
   "execution_count": 23,
   "id": "af8c7960",
   "metadata": {
    "execution": {
     "iopub.execute_input": "2021-07-27T16:57:08.084924Z",
     "iopub.status.busy": "2021-07-27T16:57:08.083399Z",
     "iopub.status.idle": "2021-07-27T16:57:08.086996Z",
     "shell.execute_reply": "2021-07-27T16:57:08.087528Z",
     "shell.execute_reply.started": "2021-07-27T16:56:22.708625Z"
    },
    "papermill": {
     "duration": 0.051192,
     "end_time": "2021-07-27T16:57:08.087702",
     "exception": false,
     "start_time": "2021-07-27T16:57:08.036510",
     "status": "completed"
    },
    "tags": []
   },
   "outputs": [],
   "source": [
    "X_train = X_train[['Lat', 'Lng', 'Distance(mi)','Crossing','Junction','Railway','Amenity','Side','Weather_Condition','Visibility(mi)','Holiday','Temperature(F)', 'Humidity(%)','Stop','Wind_Speed(mph)']]\n",
    "X_val = X_val[['Lat', 'Lng', 'Distance(mi)','Crossing','Junction','Railway','Amenity','Side','Weather_Condition','Visibility(mi)','Holiday','Temperature(F)', 'Humidity(%)','Stop','Wind_Speed(mph)']]"
   ]
  },
  {
   "cell_type": "markdown",
   "id": "7f008a80",
   "metadata": {
    "papermill": {
     "duration": 0.041651,
     "end_time": "2021-07-27T16:57:08.171084",
     "exception": false,
     "start_time": "2021-07-27T16:57:08.129433",
     "status": "completed"
    },
    "tags": []
   },
   "source": [
    "## Model Training\n",
    "\n",
    "Let's train a model with the data! We'll train a Random Forest Classifier to demonstrate the process of making submissions. "
   ]
  },
  {
   "cell_type": "code",
   "execution_count": 24,
   "id": "0209abbc",
   "metadata": {
    "execution": {
     "iopub.execute_input": "2021-07-27T16:57:08.259817Z",
     "iopub.status.busy": "2021-07-27T16:57:08.259084Z",
     "iopub.status.idle": "2021-07-27T16:57:08.760253Z",
     "shell.execute_reply": "2021-07-27T16:57:08.759453Z",
     "shell.execute_reply.started": "2021-07-27T16:56:25.468375Z"
    },
    "papermill": {
     "duration": 0.547393,
     "end_time": "2021-07-27T16:57:08.760416",
     "exception": false,
     "start_time": "2021-07-27T16:57:08.213023",
     "status": "completed"
    },
    "tags": []
   },
   "outputs": [],
   "source": [
    "from sklearn.ensemble import RandomForestClassifier\n",
    "\n",
    "# Create an instance of the classifier\n",
    "classifier = RandomForestClassifier(max_depth=2, random_state=0)\n",
    "\n",
    "# Train the classifier\n",
    "classifier = classifier.fit(X_train, y_train)"
   ]
  },
  {
   "cell_type": "markdown",
   "id": "664ea188",
   "metadata": {
    "papermill": {
     "duration": 0.03702,
     "end_time": "2021-07-27T16:57:08.834263",
     "exception": false,
     "start_time": "2021-07-27T16:57:08.797243",
     "status": "completed"
    },
    "tags": []
   },
   "source": [
    "Now let's test our classifier on the validation dataset and see the accuracy."
   ]
  },
  {
   "cell_type": "code",
   "execution_count": 25,
   "id": "6b8729e4",
   "metadata": {
    "execution": {
     "iopub.execute_input": "2021-07-27T16:57:08.920153Z",
     "iopub.status.busy": "2021-07-27T16:57:08.919008Z",
     "iopub.status.idle": "2021-07-27T16:57:08.943045Z",
     "shell.execute_reply": "2021-07-27T16:57:08.942304Z",
     "shell.execute_reply.started": "2021-07-27T16:56:29.058683Z"
    },
    "papermill": {
     "duration": 0.072253,
     "end_time": "2021-07-27T16:57:08.943193",
     "exception": false,
     "start_time": "2021-07-27T16:57:08.870940",
     "status": "completed"
    },
    "tags": []
   },
   "outputs": [
    {
     "name": "stdout",
     "output_type": "stream",
     "text": [
      "The accuracy of the classifier on the validation set is  0.751170046801872\n"
     ]
    }
   ],
   "source": [
    "print(\"The accuracy of the classifier on the validation set is \", (classifier.score(X_val, y_val)))"
   ]
  },
  {
   "cell_type": "markdown",
   "id": "91757391",
   "metadata": {
    "papermill": {
     "duration": 0.038213,
     "end_time": "2021-07-27T16:57:09.019639",
     "exception": false,
     "start_time": "2021-07-27T16:57:08.981426",
     "status": "completed"
    },
    "tags": []
   },
   "source": [
    "Well. That's a good start, right? A classifier that predicts all examples' `Severity` as 2 will get around 0.63. You should get better score as you add more features and do better data preprocessing."
   ]
  },
  {
   "cell_type": "markdown",
   "id": "5d5a856d",
   "metadata": {
    "papermill": {
     "duration": 0.037649,
     "end_time": "2021-07-27T16:57:09.095496",
     "exception": false,
     "start_time": "2021-07-27T16:57:09.057847",
     "status": "completed"
    },
    "tags": []
   },
   "source": [
    "## Submission File Generation\n",
    "\n",
    "We have built a model and we'd like to submit our predictions on the test set! In order to do that, we'll load the test set, predict the class and save the submission file. \n",
    "\n",
    "First, we'll load the data."
   ]
  },
  {
   "cell_type": "code",
   "execution_count": 26,
   "id": "f00d53d2",
   "metadata": {
    "execution": {
     "iopub.execute_input": "2021-07-27T16:57:09.175678Z",
     "iopub.status.busy": "2021-07-27T16:57:09.174911Z",
     "iopub.status.idle": "2021-07-27T16:57:09.205433Z",
     "shell.execute_reply": "2021-07-27T16:57:09.204877Z",
     "shell.execute_reply.started": "2021-07-27T16:56:32.690939Z"
    },
    "papermill": {
     "duration": 0.072697,
     "end_time": "2021-07-27T16:57:09.205564",
     "exception": false,
     "start_time": "2021-07-27T16:57:09.132867",
     "status": "completed"
    },
    "tags": []
   },
   "outputs": [
    {
     "data": {
      "text/html": [
       "<div>\n",
       "<style scoped>\n",
       "    .dataframe tbody tr th:only-of-type {\n",
       "        vertical-align: middle;\n",
       "    }\n",
       "\n",
       "    .dataframe tbody tr th {\n",
       "        vertical-align: top;\n",
       "    }\n",
       "\n",
       "    .dataframe thead th {\n",
       "        text-align: right;\n",
       "    }\n",
       "</style>\n",
       "<table border=\"1\" class=\"dataframe\">\n",
       "  <thead>\n",
       "    <tr style=\"text-align: right;\">\n",
       "      <th></th>\n",
       "      <th>ID</th>\n",
       "      <th>Lat</th>\n",
       "      <th>Lng</th>\n",
       "      <th>Bump</th>\n",
       "      <th>Distance(mi)</th>\n",
       "      <th>Crossing</th>\n",
       "      <th>Give_Way</th>\n",
       "      <th>Junction</th>\n",
       "      <th>No_Exit</th>\n",
       "      <th>Railway</th>\n",
       "      <th>Roundabout</th>\n",
       "      <th>Stop</th>\n",
       "      <th>Amenity</th>\n",
       "      <th>Side</th>\n",
       "      <th>timestamp</th>\n",
       "    </tr>\n",
       "  </thead>\n",
       "  <tbody>\n",
       "    <tr>\n",
       "      <th>0</th>\n",
       "      <td>6407</td>\n",
       "      <td>37.786060</td>\n",
       "      <td>-122.390900</td>\n",
       "      <td>False</td>\n",
       "      <td>0.039</td>\n",
       "      <td>False</td>\n",
       "      <td>False</td>\n",
       "      <td>True</td>\n",
       "      <td>False</td>\n",
       "      <td>False</td>\n",
       "      <td>False</td>\n",
       "      <td>False</td>\n",
       "      <td>False</td>\n",
       "      <td>R</td>\n",
       "      <td>2016-04-04 19:20:31</td>\n",
       "    </tr>\n",
       "    <tr>\n",
       "      <th>1</th>\n",
       "      <td>6408</td>\n",
       "      <td>37.769609</td>\n",
       "      <td>-122.415057</td>\n",
       "      <td>False</td>\n",
       "      <td>0.202</td>\n",
       "      <td>False</td>\n",
       "      <td>False</td>\n",
       "      <td>False</td>\n",
       "      <td>False</td>\n",
       "      <td>False</td>\n",
       "      <td>False</td>\n",
       "      <td>False</td>\n",
       "      <td>False</td>\n",
       "      <td>R</td>\n",
       "      <td>2020-10-28 11:51:00</td>\n",
       "    </tr>\n",
       "    <tr>\n",
       "      <th>2</th>\n",
       "      <td>6409</td>\n",
       "      <td>37.807495</td>\n",
       "      <td>-122.476021</td>\n",
       "      <td>False</td>\n",
       "      <td>0.000</td>\n",
       "      <td>False</td>\n",
       "      <td>False</td>\n",
       "      <td>False</td>\n",
       "      <td>False</td>\n",
       "      <td>False</td>\n",
       "      <td>False</td>\n",
       "      <td>False</td>\n",
       "      <td>False</td>\n",
       "      <td>R</td>\n",
       "      <td>2019-09-09 07:36:45</td>\n",
       "    </tr>\n",
       "    <tr>\n",
       "      <th>3</th>\n",
       "      <td>6410</td>\n",
       "      <td>37.761818</td>\n",
       "      <td>-122.405869</td>\n",
       "      <td>False</td>\n",
       "      <td>0.000</td>\n",
       "      <td>False</td>\n",
       "      <td>False</td>\n",
       "      <td>True</td>\n",
       "      <td>False</td>\n",
       "      <td>False</td>\n",
       "      <td>False</td>\n",
       "      <td>False</td>\n",
       "      <td>False</td>\n",
       "      <td>R</td>\n",
       "      <td>2019-08-06 15:46:25</td>\n",
       "    </tr>\n",
       "    <tr>\n",
       "      <th>4</th>\n",
       "      <td>6411</td>\n",
       "      <td>37.732350</td>\n",
       "      <td>-122.414100</td>\n",
       "      <td>False</td>\n",
       "      <td>0.670</td>\n",
       "      <td>False</td>\n",
       "      <td>False</td>\n",
       "      <td>False</td>\n",
       "      <td>False</td>\n",
       "      <td>False</td>\n",
       "      <td>False</td>\n",
       "      <td>False</td>\n",
       "      <td>False</td>\n",
       "      <td>R</td>\n",
       "      <td>2018-10-17 09:54:58</td>\n",
       "    </tr>\n",
       "  </tbody>\n",
       "</table>\n",
       "</div>"
      ],
      "text/plain": [
       "     ID        Lat         Lng   Bump  Distance(mi)  Crossing  Give_Way  \\\n",
       "0  6407  37.786060 -122.390900  False         0.039     False     False   \n",
       "1  6408  37.769609 -122.415057  False         0.202     False     False   \n",
       "2  6409  37.807495 -122.476021  False         0.000     False     False   \n",
       "3  6410  37.761818 -122.405869  False         0.000     False     False   \n",
       "4  6411  37.732350 -122.414100  False         0.670     False     False   \n",
       "\n",
       "   Junction  No_Exit  Railway  Roundabout   Stop  Amenity Side  \\\n",
       "0      True    False    False       False  False    False    R   \n",
       "1     False    False    False       False  False    False    R   \n",
       "2     False    False    False       False  False    False    R   \n",
       "3      True    False    False       False  False    False    R   \n",
       "4     False    False    False       False  False    False    R   \n",
       "\n",
       "             timestamp  \n",
       "0  2016-04-04 19:20:31  \n",
       "1  2020-10-28 11:51:00  \n",
       "2  2019-09-09 07:36:45  \n",
       "3  2019-08-06 15:46:25  \n",
       "4  2018-10-17 09:54:58  "
      ]
     },
     "execution_count": 26,
     "metadata": {},
     "output_type": "execute_result"
    }
   ],
   "source": [
    "test_df = pd.read_csv(os.path.join(dataset_path, 'test.csv'))\n",
    "test_df.head()"
   ]
  },
  {
   "cell_type": "markdown",
   "id": "f6e2ea70",
   "metadata": {
    "papermill": {
     "duration": 0.037126,
     "end_time": "2021-07-27T16:57:09.280324",
     "exception": false,
     "start_time": "2021-07-27T16:57:09.243198",
     "status": "completed"
    },
    "tags": []
   },
   "source": [
    "Note that the test set has the same features and doesn't have the `Severity` column.\n",
    "At this stage one must **NOT** forget to apply the same processing done on the training set on the features of the test set.\n",
    "\n",
    "Now we'll add `Severity` column to the test `DataFrame` and add the values of the predicted class to it.\n",
    "\n",
    "**I'll select the numerical features here as I did in the training set. DO NOT forget to change this step as you change the preprocessing of the training data.**"
   ]
  },
  {
   "cell_type": "code",
   "execution_count": 27,
   "id": "dea17b27",
   "metadata": {
    "execution": {
     "iopub.execute_input": "2021-07-27T16:57:09.364484Z",
     "iopub.status.busy": "2021-07-27T16:57:09.363776Z",
     "iopub.status.idle": "2021-07-27T16:57:09.436036Z",
     "shell.execute_reply": "2021-07-27T16:57:09.435483Z",
     "shell.execute_reply.started": "2021-07-27T16:56:36.070327Z"
    },
    "papermill": {
     "duration": 0.118251,
     "end_time": "2021-07-27T16:57:09.436173",
     "exception": false,
     "start_time": "2021-07-27T16:57:09.317922",
     "status": "completed"
    },
    "tags": []
   },
   "outputs": [
    {
     "data": {
      "text/html": [
       "<div>\n",
       "<style scoped>\n",
       "    .dataframe tbody tr th:only-of-type {\n",
       "        vertical-align: middle;\n",
       "    }\n",
       "\n",
       "    .dataframe tbody tr th {\n",
       "        vertical-align: top;\n",
       "    }\n",
       "\n",
       "    .dataframe thead th {\n",
       "        text-align: right;\n",
       "    }\n",
       "</style>\n",
       "<table border=\"1\" class=\"dataframe\">\n",
       "  <thead>\n",
       "    <tr style=\"text-align: right;\">\n",
       "      <th></th>\n",
       "      <th>ID</th>\n",
       "      <th>Lat</th>\n",
       "      <th>Lng</th>\n",
       "      <th>Bump</th>\n",
       "      <th>Distance(mi)</th>\n",
       "      <th>Crossing</th>\n",
       "      <th>Give_Way</th>\n",
       "      <th>Junction</th>\n",
       "      <th>No_Exit</th>\n",
       "      <th>Railway</th>\n",
       "      <th>Roundabout</th>\n",
       "      <th>Stop</th>\n",
       "      <th>Amenity</th>\n",
       "      <th>Side</th>\n",
       "      <th>timestamp</th>\n",
       "      <th>Date</th>\n",
       "      <th>Hour</th>\n",
       "      <th>Severity</th>\n",
       "    </tr>\n",
       "  </thead>\n",
       "  <tbody>\n",
       "    <tr>\n",
       "      <th>0</th>\n",
       "      <td>6407</td>\n",
       "      <td>37.786060</td>\n",
       "      <td>-122.390900</td>\n",
       "      <td>False</td>\n",
       "      <td>0.039</td>\n",
       "      <td>False</td>\n",
       "      <td>False</td>\n",
       "      <td>True</td>\n",
       "      <td>False</td>\n",
       "      <td>False</td>\n",
       "      <td>False</td>\n",
       "      <td>False</td>\n",
       "      <td>False</td>\n",
       "      <td>R</td>\n",
       "      <td>2016-04-04 19:20:31</td>\n",
       "      <td>2016-04-04</td>\n",
       "      <td>19</td>\n",
       "      <td>2</td>\n",
       "    </tr>\n",
       "    <tr>\n",
       "      <th>1</th>\n",
       "      <td>6408</td>\n",
       "      <td>37.769609</td>\n",
       "      <td>-122.415057</td>\n",
       "      <td>False</td>\n",
       "      <td>0.202</td>\n",
       "      <td>False</td>\n",
       "      <td>False</td>\n",
       "      <td>False</td>\n",
       "      <td>False</td>\n",
       "      <td>False</td>\n",
       "      <td>False</td>\n",
       "      <td>False</td>\n",
       "      <td>False</td>\n",
       "      <td>R</td>\n",
       "      <td>2020-10-28 11:51:00</td>\n",
       "      <td>2020-10-28</td>\n",
       "      <td>11</td>\n",
       "      <td>2</td>\n",
       "    </tr>\n",
       "    <tr>\n",
       "      <th>2</th>\n",
       "      <td>6409</td>\n",
       "      <td>37.807495</td>\n",
       "      <td>-122.476021</td>\n",
       "      <td>False</td>\n",
       "      <td>0.000</td>\n",
       "      <td>False</td>\n",
       "      <td>False</td>\n",
       "      <td>False</td>\n",
       "      <td>False</td>\n",
       "      <td>False</td>\n",
       "      <td>False</td>\n",
       "      <td>False</td>\n",
       "      <td>False</td>\n",
       "      <td>R</td>\n",
       "      <td>2019-09-09 07:36:45</td>\n",
       "      <td>2019-09-09</td>\n",
       "      <td>7</td>\n",
       "      <td>2</td>\n",
       "    </tr>\n",
       "    <tr>\n",
       "      <th>3</th>\n",
       "      <td>6410</td>\n",
       "      <td>37.761818</td>\n",
       "      <td>-122.405869</td>\n",
       "      <td>False</td>\n",
       "      <td>0.000</td>\n",
       "      <td>False</td>\n",
       "      <td>False</td>\n",
       "      <td>True</td>\n",
       "      <td>False</td>\n",
       "      <td>False</td>\n",
       "      <td>False</td>\n",
       "      <td>False</td>\n",
       "      <td>False</td>\n",
       "      <td>R</td>\n",
       "      <td>2019-08-06 15:46:25</td>\n",
       "      <td>2019-08-06</td>\n",
       "      <td>15</td>\n",
       "      <td>2</td>\n",
       "    </tr>\n",
       "    <tr>\n",
       "      <th>4</th>\n",
       "      <td>6411</td>\n",
       "      <td>37.732350</td>\n",
       "      <td>-122.414100</td>\n",
       "      <td>False</td>\n",
       "      <td>0.670</td>\n",
       "      <td>False</td>\n",
       "      <td>False</td>\n",
       "      <td>False</td>\n",
       "      <td>False</td>\n",
       "      <td>False</td>\n",
       "      <td>False</td>\n",
       "      <td>False</td>\n",
       "      <td>False</td>\n",
       "      <td>R</td>\n",
       "      <td>2018-10-17 09:54:58</td>\n",
       "      <td>2018-10-17</td>\n",
       "      <td>9</td>\n",
       "      <td>2</td>\n",
       "    </tr>\n",
       "  </tbody>\n",
       "</table>\n",
       "</div>"
      ],
      "text/plain": [
       "     ID        Lat         Lng   Bump  Distance(mi)  Crossing  Give_Way  \\\n",
       "0  6407  37.786060 -122.390900  False         0.039     False     False   \n",
       "1  6408  37.769609 -122.415057  False         0.202     False     False   \n",
       "2  6409  37.807495 -122.476021  False         0.000     False     False   \n",
       "3  6410  37.761818 -122.405869  False         0.000     False     False   \n",
       "4  6411  37.732350 -122.414100  False         0.670     False     False   \n",
       "\n",
       "   Junction  No_Exit  Railway  Roundabout   Stop  Amenity Side  \\\n",
       "0      True    False    False       False  False    False    R   \n",
       "1     False    False    False       False  False    False    R   \n",
       "2     False    False    False       False  False    False    R   \n",
       "3      True    False    False       False  False    False    R   \n",
       "4     False    False    False       False  False    False    R   \n",
       "\n",
       "            timestamp        Date  Hour  Severity  \n",
       "0 2016-04-04 19:20:31  2016-04-04    19         2  \n",
       "1 2020-10-28 11:51:00  2020-10-28    11         2  \n",
       "2 2019-09-09 07:36:45  2019-09-09     7         2  \n",
       "3 2019-08-06 15:46:25  2019-08-06    15         2  \n",
       "4 2018-10-17 09:54:58  2018-10-17     9         2  "
      ]
     },
     "execution_count": 27,
     "metadata": {},
     "output_type": "execute_result"
    }
   ],
   "source": [
    "test_df['timestamp'] = pd.to_datetime(test_df['timestamp'])\n",
    "test_df['Date'] = test_df['timestamp'].dt.date\n",
    "test_df['Hour']=test_df['timestamp'].dt.hour\n",
    "X_test=test_df.drop(columns=['timestamp','ID'])\n",
    "\n",
    "# Mapping Side column to numerical representation\n",
    "X_test['Side'] = X_test['Side'].rank(method='dense', ascending=False).astype(float)\n",
    "\n",
    "# Merging training Data and Weather Data \n",
    "#Merge the DataFrames\n",
    "test_merged = pd.merge(X_test, df_weather, how='inner', left_index=True, right_index=True, suffixes=('', '_drop'))\n",
    "\n",
    "#Drop the duplicate columns\n",
    "test_merged.drop([col for col in test_merged.columns if 'drop' in col], axis=1, inplace=True)\n",
    "test_merged=test_merged.dropna()\n",
    "\n",
    "# Merging the test_merged with df_holidays\n",
    "test_merged = pd.merge(test_merged, df_holidays, how='left', on='Date', suffixes=('', '_drop'))\n",
    "\n",
    "#Drop the duplicate columns\n",
    "test_merged.drop([col for col in test_merged.columns if 'drop' in col], axis=1, inplace=True)\n",
    "\n",
    "# Replacing the null value which is ordinary day (non-holiday day) to numerical label (10)\n",
    "test_merged['Holiday'].fillna(10, inplace = True)\n",
    "\n",
    "\n",
    "# You should update/remove the next line once you change the features used for training\n",
    "test_merged = test_merged[['Lat', 'Lng', 'Distance(mi)','Crossing','Junction','Railway','Amenity','Side','Weather_Condition','Visibility(mi)','Holiday','Temperature(F)', 'Humidity(%)','Stop','Wind_Speed(mph)']]\n",
    "\n",
    "y_test_predicted = classifier.predict(test_merged)\n",
    "\n",
    "test_df['Severity'] = y_test_predicted\n",
    "\n",
    "test_df.head()"
   ]
  },
  {
   "cell_type": "markdown",
   "id": "54607cdc",
   "metadata": {
    "papermill": {
     "duration": 0.037897,
     "end_time": "2021-07-27T16:57:09.512796",
     "exception": false,
     "start_time": "2021-07-27T16:57:09.474899",
     "status": "completed"
    },
    "tags": []
   },
   "source": [
    "Now we're ready to generate the submission file. The submission file needs the columns `ID` and `Severity` only."
   ]
  },
  {
   "cell_type": "code",
   "execution_count": 28,
   "id": "59aab9f7",
   "metadata": {
    "execution": {
     "iopub.execute_input": "2021-07-27T16:57:09.596052Z",
     "iopub.status.busy": "2021-07-27T16:57:09.595123Z",
     "iopub.status.idle": "2021-07-27T16:57:09.604036Z",
     "shell.execute_reply": "2021-07-27T16:57:09.603408Z",
     "shell.execute_reply.started": "2021-07-27T16:56:39.469780Z"
    },
    "papermill": {
     "duration": 0.053395,
     "end_time": "2021-07-27T16:57:09.604180",
     "exception": false,
     "start_time": "2021-07-27T16:57:09.550785",
     "status": "completed"
    },
    "tags": []
   },
   "outputs": [],
   "source": [
    "test_df[['ID', 'Severity']].to_csv('/kaggle/working/submission.csv', index=False)"
   ]
  },
  {
   "cell_type": "markdown",
   "id": "d9213e1c",
   "metadata": {
    "papermill": {
     "duration": 0.037591,
     "end_time": "2021-07-27T16:57:09.680051",
     "exception": false,
     "start_time": "2021-07-27T16:57:09.642460",
     "status": "completed"
    },
    "tags": []
   },
   "source": [
    "The remaining steps is to submit the generated file and are as follows. \n",
    "\n",
    "1. Press `Save Version` on the upper right corner of this notebook.\n",
    "2. Write a `Version Name` of your choice and choose `Save & Run All (Commit)` then click `Save`.\n",
    "3. Wait for the saved notebook to finish running the go to the saved notebook.\n",
    "4. Scroll down until you see the output files then select the `submission.csv` file and click `Submit`.\n",
    "\n",
    "Now your submission will be evaluated and your score will be updated on the leaderboard! CONGRATULATIONS!!"
   ]
  },
  {
   "cell_type": "markdown",
   "id": "005f48f8",
   "metadata": {
    "papermill": {
     "duration": 0.03747,
     "end_time": "2021-07-27T16:57:09.755568",
     "exception": false,
     "start_time": "2021-07-27T16:57:09.718098",
     "status": "completed"
    },
    "tags": []
   },
   "source": [
    "## Conclusion\n",
    "\n",
    "In this notebook, we have demonstrated the essential steps that one should do in order to get \"slightly\" familiar with the data and the submission process. We chose not to go into details in each step to keep the welcoming notebook simple and make a room for improvement.\n",
    "\n",
    "You're encourged to `Fork` the notebook, edit it, add your insights and use it to create your submission."
   ]
  }
 ],
 "metadata": {
  "kernelspec": {
   "display_name": "Python 3",
   "language": "python",
   "name": "python3"
  },
  "language_info": {
   "codemirror_mode": {
    "name": "ipython",
    "version": 3
   },
   "file_extension": ".py",
   "mimetype": "text/x-python",
   "name": "python",
   "nbconvert_exporter": "python",
   "pygments_lexer": "ipython3",
   "version": "3.8.8"
  },
  "papermill": {
   "default_parameters": {},
   "duration": 13.646545,
   "end_time": "2021-07-27T16:57:10.504003",
   "environment_variables": {},
   "exception": null,
   "input_path": "__notebook__.ipynb",
   "output_path": "__notebook__.ipynb",
   "parameters": {},
   "start_time": "2021-07-27T16:56:56.857458",
   "version": "2.3.3"
  }
 },
 "nbformat": 4,
 "nbformat_minor": 5
}
